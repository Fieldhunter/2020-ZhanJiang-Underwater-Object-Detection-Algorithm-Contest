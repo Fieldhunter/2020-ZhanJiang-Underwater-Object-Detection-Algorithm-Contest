{
 "cells": [
  {
   "cell_type": "code",
   "execution_count": 1,
   "metadata": {},
   "outputs": [],
   "source": [
    "from bs4 import BeautifulSoup\n",
    "import os"
   ]
  },
  {
   "cell_type": "markdown",
   "metadata": {},
   "source": [
    "# 导入数据"
   ]
  },
  {
   "cell_type": "code",
   "execution_count": 2,
   "metadata": {},
   "outputs": [],
   "source": [
    "class_label = ['holothurian', 'echinus', 'scallop', 'starfish']\n",
    "file_path = 'data/train/box/'\n",
    "image_path = 'data/train/image/'\n",
    "all_name = os.listdir(file_path)"
   ]
  },
  {
   "cell_type": "markdown",
   "metadata": {},
   "source": [
    "# 数据处理"
   ]
  },
  {
   "cell_type": "code",
   "execution_count": 5,
   "metadata": {},
   "outputs": [],
   "source": [
    "# train_result用于后续yolo训练,k_mean_result用于计算anchor boxes\n",
    "train_result = []\n",
    "k_mean_result = []\n",
    "x_min = 9999\n",
    "y_min = 9999\n",
    "x_max = 0\n",
    "y_max = 0\n",
    "number_collect = [0, 0, 0, 0]\n",
    "\n",
    "# 遍历图片\n",
    "for i in all_name:\n",
    "    train_result.append(image_path+i.rstrip('xml')+'jpg')\n",
    "    soup = BeautifulSoup(open(file_path+i), 'lxml')\n",
    "    bbx = soup.find_all('object')\n",
    "    \n",
    "    # 遍历候选框\n",
    "    for j in bbx:\n",
    "        name = str(j.contents[1].string)\n",
    "        if name != 'waterweeds':\n",
    "            xmin = int(j.xmin.string)\n",
    "            ymin = int(j.ymin.string)\n",
    "            xmax = int(j.xmax.string)\n",
    "            ymax = int(j.ymax.string)\n",
    "            index = str(class_label.index(name))\n",
    "            \n",
    "            # 防止大小混淆\n",
    "            if xmin > xmax:\n",
    "                xmax, xmin = xmin, xmax\n",
    "            if ymin > ymax:\n",
    "                ymax, ymin = ymax, ymin\n",
    "            \n",
    "            # 判断ground truth是否超出图像范围\n",
    "            if xmin > 1920 or xmax <= 0:\n",
    "                continue\n",
    "            if ymin > 1080 or ymax <= 0:\n",
    "                continue\n",
    "            \n",
    "            # 处于图像边缘候选框的处理\n",
    "            if xmin <= 0:\n",
    "                xmin = 1\n",
    "            if ymin <= 0:\n",
    "                ymin = 1\n",
    "            if xmax > 1920:\n",
    "                xmax = 1920\n",
    "            if ymax > 1080:\n",
    "                ymax = 1080\n",
    "            \n",
    "            # 判断是否为无效框\n",
    "            x_distance = xmax - xmin\n",
    "            y_distance = ymax - ymin\n",
    "            if x_distance == 0 or y_distance == 0:\n",
    "                continue\n",
    "            \n",
    "            # 对数据进行统计\n",
    "            if xmin < x_min:\n",
    "                x_min = xmin\n",
    "            if ymin < y_min:\n",
    "                y_min = ymin\n",
    "            if xmax > x_max:\n",
    "                x_max = xmax\n",
    "            if ymax > y_max:\n",
    "                y_max = ymax\n",
    "            number_collect[int(index)] += 1\n",
    "\n",
    "            xmin, xmax, ymin, ymax = str(xmin), str(xmax), str(ymin), str(ymax)\n",
    "            train_result.append(' ')\n",
    "            for x in [xmin, ymin, xmax, ymax]:\n",
    "                train_result.append(x)\n",
    "                k_mean_result.append(x)\n",
    "                train_result.append(',')\n",
    "                if x is not ymax:\n",
    "                    k_mean_result.append(',')\n",
    "                else:\n",
    "                    train_result.append(index)\n",
    "            k_mean_result.append('\\n')\n",
    "    train_result.append('\\n')"
   ]
  },
  {
   "cell_type": "markdown",
   "metadata": {},
   "source": [
    "# 查看统计结果"
   ]
  },
  {
   "cell_type": "code",
   "execution_count": 6,
   "metadata": {},
   "outputs": [
    {
     "name": "stdout",
     "output_type": "stream",
     "text": [
      "1 1 1920 1080\n"
     ]
    },
    {
     "data": {
      "text/plain": [
       "[4999, 18953, 3271, 5868]"
      ]
     },
     "execution_count": 6,
     "metadata": {},
     "output_type": "execute_result"
    }
   ],
   "source": [
    "print(x_min, y_min, x_max, y_max)\n",
    "number_collect"
   ]
  },
  {
   "cell_type": "markdown",
   "metadata": {},
   "source": [
    "# 保存"
   ]
  },
  {
   "cell_type": "code",
   "execution_count": 12,
   "metadata": {},
   "outputs": [],
   "source": [
    "with open('data/train_data.txt', 'w') as f:\n",
    "    f.writelines(train_result)\n",
    "with open('data/k_mean_data.txt', 'w') as f:\n",
    "    f.writelines(k_mean_result)"
   ]
  }
 ],
 "metadata": {
  "kernelspec": {
   "display_name": "Python 3",
   "language": "python",
   "name": "python3"
  },
  "language_info": {
   "codemirror_mode": {
    "name": "ipython",
    "version": 3
   },
   "file_extension": ".py",
   "mimetype": "text/x-python",
   "name": "python",
   "nbconvert_exporter": "python",
   "pygments_lexer": "ipython3",
   "version": "3.6.9"
  }
 },
 "nbformat": 4,
 "nbformat_minor": 2
}
