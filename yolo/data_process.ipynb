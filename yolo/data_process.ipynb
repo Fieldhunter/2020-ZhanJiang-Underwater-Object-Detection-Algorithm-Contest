{
 "cells": [
  {
   "cell_type": "code",
   "execution_count": 1,
   "metadata": {},
   "outputs": [],
   "source": [
    "from bs4 import BeautifulSoup\n",
    "import os\n",
    "import cv2"
   ]
  },
  {
   "cell_type": "markdown",
   "metadata": {},
   "source": [
    "# 导入数据"
   ]
  },
  {
   "cell_type": "code",
   "execution_count": 2,
   "metadata": {},
   "outputs": [],
   "source": [
    "class_label = ['holothurian', 'echinus', 'scallop', 'starfish', 'waterweeds']\n",
    "file_path = '../data/train/box/'\n",
    "image_path = '../data/train/augment/'\n",
    "all_name = os.listdir(file_path)"
   ]
  },
  {
   "cell_type": "markdown",
   "metadata": {},
   "source": [
    "# 数据处理"
   ]
  },
  {
   "cell_type": "code",
   "execution_count": 3,
   "metadata": {},
   "outputs": [],
   "source": [
    "# train_result用于后续yolo训练,k_mean_result用于计算anchor boxes\n",
    "train_result = []\n",
    "k_mean_result = []\n",
    "box_size = {}\n",
    "label_number = {}\n",
    "del_number = 0\n",
    "\n",
    "# 遍历图片\n",
    "for i in all_name:\n",
    "    image_name = image_path+i.rstrip('xml')+'jpg'\n",
    "    img_name_append = False\n",
    "    soup = BeautifulSoup(open(file_path+i), 'lxml')\n",
    "    bbx = soup.find_all('object')\n",
    "    img = cv2.imread(image_name)\n",
    "    height, width, _ = img.shape\n",
    "    \n",
    "    # 对各尺寸数量进行统计\n",
    "    height, width, _ = img.shape\n",
    "    if box_size.get((height, width), False):\n",
    "        box_size[(height, width)] += 1\n",
    "    else:\n",
    "        box_size[(height, width)] = 1\n",
    "    \n",
    "    # 遍历候选框\n",
    "    for j in bbx:\n",
    "        # 同时对范围进行修正，像素起点改为0\n",
    "        name = str(j.contents[1].string)\n",
    "        xmin = int(j.xmin.string) - 1\n",
    "        ymin = int(j.ymin.string) - 1\n",
    "        xmax = int(j.xmax.string) - 1\n",
    "        ymax = int(j.ymax.string) - 1\n",
    "        index = str(class_label.index(name))\n",
    "\n",
    "        # 防止大小混淆\n",
    "        if xmin > xmax:\n",
    "            xmax, xmin = xmin, xmax\n",
    "        if ymin > ymax:\n",
    "            ymax, ymin = ymin, ymax\n",
    "            \n",
    "        # 判断ground truth是否超出图像范围\n",
    "        if xmin > width - 1 or xmax < 0:\n",
    "            continue\n",
    "        if ymin > height - 1 or ymax < 0:\n",
    "            continue\n",
    "\n",
    "        # 处于图像边缘候选框的处理\n",
    "        if xmin < 0:\n",
    "            xmin = 0\n",
    "        if ymin < 0:\n",
    "            ymin = 0\n",
    "        if xmax > width - 1:\n",
    "            xmax = width - 1\n",
    "        if ymax > height - 1:\n",
    "            ymax = height - 1\n",
    "            \n",
    "        # 判断是否为无效框\n",
    "        x_distance = xmax - xmin\n",
    "        y_distance = ymax - ymin\n",
    "        if x_distance == 0 or y_distance == 0:\n",
    "            continue\n",
    "            \n",
    "        # 对于过小的图片进行删除\n",
    "        square = (xmax - xmin) * (ymax - ymin)\n",
    "        if square < 120:\n",
    "            del_number += 1\n",
    "            continue\n",
    "        \n",
    "        # 防止有图片没有任何候选框\n",
    "        if img_name_append == False:\n",
    "            train_result.append(image_name)\n",
    "            img_name_append = True\n",
    "\n",
    "        # 判断是否增加kmean缩放候选框\n",
    "        scale = min(448/width, 448/height)\n",
    "        square = ((xmax - xmin)*scale) * ((ymax - ymin)*scale)\n",
    "        if square < 120:\n",
    "            kmean_scale = False\n",
    "        else:\n",
    "            kmean_scale = True\n",
    "        \n",
    "        xmin, xmax, ymin, ymax = str(xmin), str(xmax), str(ymin), str(ymax)\n",
    "        train_result.append(' ')\n",
    "        for x in [xmin, ymin, xmax, ymax]:\n",
    "            train_result.append(x)\n",
    "            train_result.append(',')\n",
    "            if x is ymax:\n",
    "                train_result.append(index)\n",
    "        \n",
    "        # kmean添加缩放候选框\n",
    "        if kmean_scale == True:\n",
    "            for x in [xmin, ymin, xmax, ymax]:\n",
    "                k_mean_result.append(int(round(int(x)*scale)))\n",
    "                if x is not ymax:\n",
    "                    k_mean_result.append(',')\n",
    "                else:\n",
    "                    k_mean_result.append('\\n')\n",
    "        \n",
    "        # 对各label数量统计\n",
    "        if label_number.get(name, False):\n",
    "            label_number[name] += 1\n",
    "        else:\n",
    "            label_number[name] = 1\n",
    "    if img_name_append == True:\n",
    "        train_result.append('\\n')"
   ]
  },
  {
   "cell_type": "markdown",
   "metadata": {},
   "source": [
    "# 查看统计结果"
   ]
  },
  {
   "cell_type": "code",
   "execution_count": 4,
   "metadata": {},
   "outputs": [
    {
     "data": {
      "text/plain": [
       "10"
      ]
     },
     "execution_count": 4,
     "metadata": {},
     "output_type": "execute_result"
    }
   ],
   "source": [
    "del_number"
   ]
  },
  {
   "cell_type": "code",
   "execution_count": 5,
   "metadata": {},
   "outputs": [
    {
     "data": {
      "text/plain": [
       "{'echinus': 22098,\n",
       " 'scallop': 6694,\n",
       " 'starfish': 6827,\n",
       " 'holothurian': 5503,\n",
       " 'waterweeds': 82}"
      ]
     },
     "execution_count": 5,
     "metadata": {},
     "output_type": "execute_result"
    }
   ],
   "source": [
    "label_number"
   ]
  },
  {
   "cell_type": "code",
   "execution_count": 6,
   "metadata": {},
   "outputs": [
    {
     "data": {
      "text/plain": [
       "{(405, 720): 3066,\n",
       " (2160, 3840): 1644,\n",
       " (1080, 1920): 595,\n",
       " (576, 704): 38,\n",
       " (480, 586): 44}"
      ]
     },
     "execution_count": 6,
     "metadata": {},
     "output_type": "execute_result"
    }
   ],
   "source": [
    "box_size"
   ]
  },
  {
   "cell_type": "markdown",
   "metadata": {},
   "source": [
    "# 保存"
   ]
  },
  {
   "cell_type": "code",
   "execution_count": 7,
   "metadata": {},
   "outputs": [],
   "source": [
    "with open('../data/train_data.txt', 'w') as f:\n",
    "    f.writelines(train_result)\n",
    "with open('../data/k_mean_data.txt', 'w') as f:\n",
    "    f.writelines(k_mean_result)"
   ]
  },
  {
   "cell_type": "code",
   "execution_count": null,
   "metadata": {},
   "outputs": [],
   "source": []
  }
 ],
 "metadata": {
  "kernelspec": {
   "display_name": "Python 3",
   "language": "python",
   "name": "python3"
  },
  "language_info": {
   "codemirror_mode": {
    "name": "ipython",
    "version": 3
   },
   "file_extension": ".py",
   "mimetype": "text/x-python",
   "name": "python",
   "nbconvert_exporter": "python",
   "pygments_lexer": "ipython3",
   "version": "3.6.9"
  }
 },
 "nbformat": 4,
 "nbformat_minor": 2
}
